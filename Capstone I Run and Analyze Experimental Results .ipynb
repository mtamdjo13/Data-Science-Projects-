{
  "nbformat": 4,
  "nbformat_minor": 0,
  "metadata": {
    "colab": {
      "provenance": []
    },
    "kernelspec": {
      "name": "python3",
      "display_name": "Python 3"
    },
    "language_info": {
      "name": "python"
    }
  },
  "cells": [
    {
      "cell_type": "markdown",
      "source": [
        "**Introduction**\n",
        "\n",
        "In the new-generation lifestyle industry, Hunter's e-grocery is a well-known name. With a presence in ten different countries, the company continually seeks new ways to better meet its customers' needs. In the past few years, swan events such as Covid-19, the Ukraine crisis, and the gas shortage have all impacted the purchasing behavior of clients. Based on the characteristics of our customers' purchasing behaviors, we will develop a business value proposition for predictive marketing using principal component analysis for dimensionality reduction.\n",
        "\n",
        "In this research, predictive behvioral dataset will be used from Hunter's supermarket. The data was published in Kaggle and it can be download via this link https://www.kaggle.com/datasets/hunter0007/ecommerce-dataset-for-predictive-marketing-2023"
      ],
      "metadata": {
        "id": "b5PJeUDeAU0J"
      }
    },
    {
      "cell_type": "markdown",
      "source": [
        "Hypothesis: \n",
        "\n",
        "\n",
        "*   Hypothesis 1: Time pressure and unfamiliar stores prevent customers from purchasing the products intended.A search based on external memory is limited by time pressure, which leads to a trade-off between speed and accuracy.  \n",
        "*   Hypothesis 2:  Purchase volume deliberation due to familiarity with the store and lack of time pressure.In order to make a purchase decision, cognitive resources are allocated to the purchase volume search, which is guided by internal memory. Using the t-test for analysis of the data, it was predicted that consumers who shop under conditions of high store knowledge and no time pressure are more likely to engage in purchase volume deliberation. The focus will be on this hypothesis.\n",
        "\n",
        "\n",
        "\n"
      ],
      "metadata": {
        "id": "xv04bJClZnrE"
      }
    },
    {
      "cell_type": "markdown",
      "source": [
        "**Business Perspective**\n",
        "\n",
        "This study aims to determine how Hunter's supermarket can evolve or re-invent its brand to increase mindshare and product sales from a business perspective"
      ],
      "metadata": {
        "id": "ZLzB9_nzkJcZ"
      }
    },
    {
      "cell_type": "markdown",
      "source": [
        "**Data Explanation**\n",
        "\n",
        "The dataset consists of over 2 million purchase records at a renowned Hunter's supermarket. \n",
        "Supermarket consumer behaviour dataset consists of 2019501 Rows & 12 Columns :\n",
        "\n",
        "\n",
        "\n",
        "*   order_id – A unique number to identity the order\n",
        "\n",
        "*   user_id - A unique number to identify the user\n",
        "*   order_number – Number of the order\n",
        "*   order_dow – Day of the Week the order was made\n",
        "*   order_hour_of_day – Time of the order\n",
        "*   days_since_prior_order - History of the order\n",
        "*   product_id – Id of the product\n",
        "*   add_to_cart_order – Number of items added to cart\n",
        "*   reordered – If the reorder took place\n",
        "*   department_id - Unique number allocated to each department\n",
        "*   department – Names of the departments\n",
        "*   product_name – Name of the products\n",
        "\n",
        "\n",
        "\n",
        "\n",
        "\n",
        "\n",
        "\n",
        "\n",
        "\n",
        "\n",
        "\n",
        "\n"
      ],
      "metadata": {
        "id": "V_Z56ZuUky-Y"
      }
    },
    {
      "cell_type": "markdown",
      "source": [
        "**Importing Data From Kaggle**\n",
        "\n",
        "\n",
        "1.   Kaggle API was downloaded\n",
        "\n"
      ],
      "metadata": {
        "id": "wCIUQthXnWZU"
      }
    },
    {
      "cell_type": "markdown",
      "source": [
        "2. Mount to Google Drive\n",
        "\n",
        ">      The Kaggle API was downloaded in the Google drive and Google drive was connected to Colab\n",
        "\n",
        "\n",
        "\n"
      ],
      "metadata": {
        "id": "wkMAoH3YJ25y"
      }
    },
    {
      "cell_type": "code",
      "source": [
        "!pip install kaggle #after downloading the API , install Kaggle library"
      ],
      "metadata": {
        "colab": {
          "base_uri": "https://localhost:8080/"
        },
        "id": "Pay_uU-J9XJ_",
        "outputId": "1ba50a9a-2ac5-4836-9f78-3810dd42b743"
      },
      "execution_count": null,
      "outputs": [
        {
          "output_type": "stream",
          "name": "stdout",
          "text": [
            "Looking in indexes: https://pypi.org/simple, https://us-python.pkg.dev/colab-wheels/public/simple/\n",
            "Requirement already satisfied: kaggle in /usr/local/lib/python3.8/dist-packages (1.5.12)\n",
            "Requirement already satisfied: urllib3 in /usr/local/lib/python3.8/dist-packages (from kaggle) (1.24.3)\n",
            "Requirement already satisfied: python-dateutil in /usr/local/lib/python3.8/dist-packages (from kaggle) (2.8.2)\n",
            "Requirement already satisfied: requests in /usr/local/lib/python3.8/dist-packages (from kaggle) (2.25.1)\n",
            "Requirement already satisfied: python-slugify in /usr/local/lib/python3.8/dist-packages (from kaggle) (7.0.0)\n",
            "Requirement already satisfied: tqdm in /usr/local/lib/python3.8/dist-packages (from kaggle) (4.64.1)\n",
            "Requirement already satisfied: certifi in /usr/local/lib/python3.8/dist-packages (from kaggle) (2022.12.7)\n",
            "Requirement already satisfied: six>=1.10 in /usr/local/lib/python3.8/dist-packages (from kaggle) (1.15.0)\n",
            "Requirement already satisfied: text-unidecode>=1.3 in /usr/local/lib/python3.8/dist-packages (from python-slugify->kaggle) (1.3)\n",
            "Requirement already satisfied: idna<3,>=2.5 in /usr/local/lib/python3.8/dist-packages (from requests->kaggle) (2.10)\n",
            "Requirement already satisfied: chardet<5,>=3.0.2 in /usr/local/lib/python3.8/dist-packages (from requests->kaggle) (4.0.0)\n"
          ]
        }
      ]
    },
    {
      "cell_type": "code",
      "source": [
        "! mkdir ~/.kaggle #Make a directory named “.kaggle”"
      ],
      "metadata": {
        "id": "JrERxBkgLjUL"
      },
      "execution_count": null,
      "outputs": []
    },
    {
      "cell_type": "code",
      "source": [
        "!cp /content/drive/MyDrive/kaggle.json ~/.kaggle/kaggle.json # Copy the “kaggle.json” into this new directory"
      ],
      "metadata": {
        "id": "ZZAeQRQIMHTr"
      },
      "execution_count": null,
      "outputs": []
    },
    {
      "cell_type": "code",
      "source": [
        "! kaggle datasets download -d hunter0007/ecommerce-dataset-for-predictive-marketing-2023 #Downloading Dataset"
      ],
      "metadata": {
        "colab": {
          "base_uri": "https://localhost:8080/"
        },
        "id": "Kq74jFvKNrGA",
        "outputId": "60f5e142-83b5-42f6-f92e-bd8026c607b8"
      },
      "execution_count": null,
      "outputs": [
        {
          "output_type": "stream",
          "name": "stdout",
          "text": [
            "Downloading ecommerce-dataset-for-predictive-marketing-2023.zip to /content\n",
            " 86% 13.0M/15.2M [00:01<00:00, 17.9MB/s]\n",
            "100% 15.2M/15.2M [00:01<00:00, 14.8MB/s]\n"
          ]
        }
      ]
    },
    {
      "cell_type": "code",
      "source": [
        "!unzip ecommerce-dataset-for-predictive-marketing-2023 #unzip the file"
      ],
      "metadata": {
        "colab": {
          "base_uri": "https://localhost:8080/"
        },
        "id": "PIQHT8jcOYVx",
        "outputId": "743f7800-c5fb-446d-d4dd-2943bb8b767c"
      },
      "execution_count": null,
      "outputs": [
        {
          "output_type": "stream",
          "name": "stdout",
          "text": [
            "Archive:  ecommerce-dataset-for-predictive-marketing-2023.zip\n",
            "  inflating: ECommerce_consumer behaviour.csv  \n"
          ]
        }
      ]
    },
    {
      "cell_type": "markdown",
      "source": [
        "** **IMPORTING PACKAGES**"
      ],
      "metadata": {
        "id": "9i3EGH9CPH8m"
      }
    },
    {
      "cell_type": "code",
      "source": [
        "import math\n",
        "import pandas as pd\n",
        "import numpy as np\n",
        "from scipy import stats\n",
        "import matplotlib.pyplot as plt\n",
        "\n",
        "import os\n",
        "for dirname, _, filenames in os.walk('/kaggle/input'):\n",
        "    for filename in filenames:\n",
        "        print(os.path.join(dirname, filename))"
      ],
      "metadata": {
        "id": "V8F2mJBaPQq2"
      },
      "execution_count": null,
      "outputs": []
    },
    {
      "cell_type": "code",
      "source": [
        "# install phik \n",
        "import sys\n",
        "\n",
        "!\"{sys.executable}\" -m pip install phik"
      ],
      "metadata": {
        "colab": {
          "base_uri": "https://localhost:8080/"
        },
        "id": "CSXsyf1fEI9H",
        "outputId": "4da7d290-f756-4a7d-b82c-272102520cf8"
      },
      "execution_count": null,
      "outputs": [
        {
          "output_type": "stream",
          "name": "stdout",
          "text": [
            "Looking in indexes: https://pypi.org/simple, https://us-python.pkg.dev/colab-wheels/public/simple/\n",
            "Collecting phik\n",
            "  Downloading phik-0.12.3-cp38-cp38-manylinux_2_17_x86_64.manylinux2014_x86_64.whl (679 kB)\n",
            "\u001b[2K     \u001b[90m━━━━━━━━━━━━━━━━━━━━━━━━━━━━━━━━━━━━━━\u001b[0m \u001b[32m679.5/679.5 KB\u001b[0m \u001b[31m25.5 MB/s\u001b[0m eta \u001b[36m0:00:00\u001b[0m\n",
            "\u001b[?25hRequirement already satisfied: joblib>=0.14.1 in /usr/local/lib/python3.8/dist-packages (from phik) (1.2.0)\n",
            "Requirement already satisfied: pandas>=0.25.1 in /usr/local/lib/python3.8/dist-packages (from phik) (1.3.5)\n",
            "Requirement already satisfied: scipy>=1.5.2 in /usr/local/lib/python3.8/dist-packages (from phik) (1.7.3)\n",
            "Requirement already satisfied: numpy>=1.18.0 in /usr/local/lib/python3.8/dist-packages (from phik) (1.21.6)\n",
            "Requirement already satisfied: matplotlib>=2.2.3 in /usr/local/lib/python3.8/dist-packages (from phik) (3.2.2)\n",
            "Requirement already satisfied: cycler>=0.10 in /usr/local/lib/python3.8/dist-packages (from matplotlib>=2.2.3->phik) (0.11.0)\n",
            "Requirement already satisfied: pyparsing!=2.0.4,!=2.1.2,!=2.1.6,>=2.0.1 in /usr/local/lib/python3.8/dist-packages (from matplotlib>=2.2.3->phik) (3.0.9)\n",
            "Requirement already satisfied: python-dateutil>=2.1 in /usr/local/lib/python3.8/dist-packages (from matplotlib>=2.2.3->phik) (2.8.2)\n",
            "Requirement already satisfied: kiwisolver>=1.0.1 in /usr/local/lib/python3.8/dist-packages (from matplotlib>=2.2.3->phik) (1.4.4)\n",
            "Requirement already satisfied: pytz>=2017.3 in /usr/local/lib/python3.8/dist-packages (from pandas>=0.25.1->phik) (2022.7)\n",
            "Requirement already satisfied: six>=1.5 in /usr/local/lib/python3.8/dist-packages (from python-dateutil>=2.1->matplotlib>=2.2.3->phik) (1.15.0)\n",
            "Installing collected packages: phik\n",
            "Successfully installed phik-0.12.3\n"
          ]
        }
      ]
    },
    {
      "cell_type": "code",
      "source": [
        "import seaborn as sns\n",
        "import matplotlib.pyplot as plt\n",
        "import itertools\n",
        "\n",
        "import phik\n",
        "\n",
        "from phik import resources\n",
        "from phik.binning import bin_data\n",
        "from phik.report import plot_correlation_matrix\n",
        "from scipy.stats import ttest_1samp, shapiro, levene, ttest_ind, mannwhitneyu, pearsonr, spearmanr, kendalltau, \\\n",
        "    f_oneway, kruskal\n",
        "from statsmodels.stats.proportion import proportions_ztest\n"
      ],
      "metadata": {
        "id": "s9aPzBEiEQ6R"
      },
      "execution_count": null,
      "outputs": []
    },
    {
      "cell_type": "markdown",
      "source": [
        "**LOAD THE DATA**"
      ],
      "metadata": {
        "id": "8JhRHVj7RsEQ"
      }
    },
    {
      "cell_type": "code",
      "source": [
        "df = pd.read_csv(\"ECommerce_consumer behaviour.csv\")"
      ],
      "metadata": {
        "id": "_64OfVL7RzRf"
      },
      "execution_count": null,
      "outputs": []
    },
    {
      "cell_type": "code",
      "source": [
        "df"
      ],
      "metadata": {
        "colab": {
          "base_uri": "https://localhost:8080/",
          "height": 679
        },
        "id": "iA9s1NbKSx6L",
        "outputId": "631eba0b-8657-4285-8e85-361275695fe4"
      },
      "execution_count": null,
      "outputs": [
        {
          "output_type": "execute_result",
          "data": {
            "text/plain": [
              "         order_id  user_id  order_number  order_dow  order_hour_of_day  \\\n",
              "0         2425083    49125             1          2                 18   \n",
              "1         2425083    49125             1          2                 18   \n",
              "2         2425083    49125             1          2                 18   \n",
              "3         2425083    49125             1          2                 18   \n",
              "4         2425083    49125             1          2                 18   \n",
              "...           ...      ...           ...        ...                ...   \n",
              "2019496   3390742   199430            16          3                 18   \n",
              "2019497    458285   128787            42          2                 19   \n",
              "2019498    458285   128787            42          2                 19   \n",
              "2019499    458285   128787            42          2                 19   \n",
              "2019500    458285   128787            42          2                 19   \n",
              "\n",
              "         days_since_prior_order  product_id  add_to_cart_order  reordered  \\\n",
              "0                           NaN          17                  1          0   \n",
              "1                           NaN          91                  2          0   \n",
              "2                           NaN          36                  3          0   \n",
              "3                           NaN          83                  4          0   \n",
              "4                           NaN          83                  5          0   \n",
              "...                         ...         ...                ...        ...   \n",
              "2019496                     5.0          83                  8          0   \n",
              "2019497                     3.0         115                  1          1   \n",
              "2019498                     3.0          32                  2          1   \n",
              "2019499                     3.0          32                  3          1   \n",
              "2019500                     3.0         123                  4          1   \n",
              "\n",
              "         department_id  department                   product_name  \n",
              "0                   13      pantry             baking ingredients  \n",
              "1                   16  dairy eggs                soy lactosefree  \n",
              "2                   16  dairy eggs                         butter  \n",
              "3                    4     produce               fresh vegetables  \n",
              "4                    4     produce               fresh vegetables  \n",
              "...                ...         ...                            ...  \n",
              "2019496              4     produce               fresh vegetables  \n",
              "2019497              7   beverages  water seltzer sparkling water  \n",
              "2019498              4     produce               packaged produce  \n",
              "2019499              4     produce               packaged produce  \n",
              "2019500              4     produce     packaged vegetables fruits  \n",
              "\n",
              "[2019501 rows x 12 columns]"
            ],
            "text/html": [
              "\n",
              "  <div id=\"df-76168043-f23e-4a82-91bd-5da1dff7ab8d\">\n",
              "    <div class=\"colab-df-container\">\n",
              "      <div>\n",
              "<style scoped>\n",
              "    .dataframe tbody tr th:only-of-type {\n",
              "        vertical-align: middle;\n",
              "    }\n",
              "\n",
              "    .dataframe tbody tr th {\n",
              "        vertical-align: top;\n",
              "    }\n",
              "\n",
              "    .dataframe thead th {\n",
              "        text-align: right;\n",
              "    }\n",
              "</style>\n",
              "<table border=\"1\" class=\"dataframe\">\n",
              "  <thead>\n",
              "    <tr style=\"text-align: right;\">\n",
              "      <th></th>\n",
              "      <th>order_id</th>\n",
              "      <th>user_id</th>\n",
              "      <th>order_number</th>\n",
              "      <th>order_dow</th>\n",
              "      <th>order_hour_of_day</th>\n",
              "      <th>days_since_prior_order</th>\n",
              "      <th>product_id</th>\n",
              "      <th>add_to_cart_order</th>\n",
              "      <th>reordered</th>\n",
              "      <th>department_id</th>\n",
              "      <th>department</th>\n",
              "      <th>product_name</th>\n",
              "    </tr>\n",
              "  </thead>\n",
              "  <tbody>\n",
              "    <tr>\n",
              "      <th>0</th>\n",
              "      <td>2425083</td>\n",
              "      <td>49125</td>\n",
              "      <td>1</td>\n",
              "      <td>2</td>\n",
              "      <td>18</td>\n",
              "      <td>NaN</td>\n",
              "      <td>17</td>\n",
              "      <td>1</td>\n",
              "      <td>0</td>\n",
              "      <td>13</td>\n",
              "      <td>pantry</td>\n",
              "      <td>baking ingredients</td>\n",
              "    </tr>\n",
              "    <tr>\n",
              "      <th>1</th>\n",
              "      <td>2425083</td>\n",
              "      <td>49125</td>\n",
              "      <td>1</td>\n",
              "      <td>2</td>\n",
              "      <td>18</td>\n",
              "      <td>NaN</td>\n",
              "      <td>91</td>\n",
              "      <td>2</td>\n",
              "      <td>0</td>\n",
              "      <td>16</td>\n",
              "      <td>dairy eggs</td>\n",
              "      <td>soy lactosefree</td>\n",
              "    </tr>\n",
              "    <tr>\n",
              "      <th>2</th>\n",
              "      <td>2425083</td>\n",
              "      <td>49125</td>\n",
              "      <td>1</td>\n",
              "      <td>2</td>\n",
              "      <td>18</td>\n",
              "      <td>NaN</td>\n",
              "      <td>36</td>\n",
              "      <td>3</td>\n",
              "      <td>0</td>\n",
              "      <td>16</td>\n",
              "      <td>dairy eggs</td>\n",
              "      <td>butter</td>\n",
              "    </tr>\n",
              "    <tr>\n",
              "      <th>3</th>\n",
              "      <td>2425083</td>\n",
              "      <td>49125</td>\n",
              "      <td>1</td>\n",
              "      <td>2</td>\n",
              "      <td>18</td>\n",
              "      <td>NaN</td>\n",
              "      <td>83</td>\n",
              "      <td>4</td>\n",
              "      <td>0</td>\n",
              "      <td>4</td>\n",
              "      <td>produce</td>\n",
              "      <td>fresh vegetables</td>\n",
              "    </tr>\n",
              "    <tr>\n",
              "      <th>4</th>\n",
              "      <td>2425083</td>\n",
              "      <td>49125</td>\n",
              "      <td>1</td>\n",
              "      <td>2</td>\n",
              "      <td>18</td>\n",
              "      <td>NaN</td>\n",
              "      <td>83</td>\n",
              "      <td>5</td>\n",
              "      <td>0</td>\n",
              "      <td>4</td>\n",
              "      <td>produce</td>\n",
              "      <td>fresh vegetables</td>\n",
              "    </tr>\n",
              "    <tr>\n",
              "      <th>...</th>\n",
              "      <td>...</td>\n",
              "      <td>...</td>\n",
              "      <td>...</td>\n",
              "      <td>...</td>\n",
              "      <td>...</td>\n",
              "      <td>...</td>\n",
              "      <td>...</td>\n",
              "      <td>...</td>\n",
              "      <td>...</td>\n",
              "      <td>...</td>\n",
              "      <td>...</td>\n",
              "      <td>...</td>\n",
              "    </tr>\n",
              "    <tr>\n",
              "      <th>2019496</th>\n",
              "      <td>3390742</td>\n",
              "      <td>199430</td>\n",
              "      <td>16</td>\n",
              "      <td>3</td>\n",
              "      <td>18</td>\n",
              "      <td>5.0</td>\n",
              "      <td>83</td>\n",
              "      <td>8</td>\n",
              "      <td>0</td>\n",
              "      <td>4</td>\n",
              "      <td>produce</td>\n",
              "      <td>fresh vegetables</td>\n",
              "    </tr>\n",
              "    <tr>\n",
              "      <th>2019497</th>\n",
              "      <td>458285</td>\n",
              "      <td>128787</td>\n",
              "      <td>42</td>\n",
              "      <td>2</td>\n",
              "      <td>19</td>\n",
              "      <td>3.0</td>\n",
              "      <td>115</td>\n",
              "      <td>1</td>\n",
              "      <td>1</td>\n",
              "      <td>7</td>\n",
              "      <td>beverages</td>\n",
              "      <td>water seltzer sparkling water</td>\n",
              "    </tr>\n",
              "    <tr>\n",
              "      <th>2019498</th>\n",
              "      <td>458285</td>\n",
              "      <td>128787</td>\n",
              "      <td>42</td>\n",
              "      <td>2</td>\n",
              "      <td>19</td>\n",
              "      <td>3.0</td>\n",
              "      <td>32</td>\n",
              "      <td>2</td>\n",
              "      <td>1</td>\n",
              "      <td>4</td>\n",
              "      <td>produce</td>\n",
              "      <td>packaged produce</td>\n",
              "    </tr>\n",
              "    <tr>\n",
              "      <th>2019499</th>\n",
              "      <td>458285</td>\n",
              "      <td>128787</td>\n",
              "      <td>42</td>\n",
              "      <td>2</td>\n",
              "      <td>19</td>\n",
              "      <td>3.0</td>\n",
              "      <td>32</td>\n",
              "      <td>3</td>\n",
              "      <td>1</td>\n",
              "      <td>4</td>\n",
              "      <td>produce</td>\n",
              "      <td>packaged produce</td>\n",
              "    </tr>\n",
              "    <tr>\n",
              "      <th>2019500</th>\n",
              "      <td>458285</td>\n",
              "      <td>128787</td>\n",
              "      <td>42</td>\n",
              "      <td>2</td>\n",
              "      <td>19</td>\n",
              "      <td>3.0</td>\n",
              "      <td>123</td>\n",
              "      <td>4</td>\n",
              "      <td>1</td>\n",
              "      <td>4</td>\n",
              "      <td>produce</td>\n",
              "      <td>packaged vegetables fruits</td>\n",
              "    </tr>\n",
              "  </tbody>\n",
              "</table>\n",
              "<p>2019501 rows × 12 columns</p>\n",
              "</div>\n",
              "      <button class=\"colab-df-convert\" onclick=\"convertToInteractive('df-76168043-f23e-4a82-91bd-5da1dff7ab8d')\"\n",
              "              title=\"Convert this dataframe to an interactive table.\"\n",
              "              style=\"display:none;\">\n",
              "        \n",
              "  <svg xmlns=\"http://www.w3.org/2000/svg\" height=\"24px\"viewBox=\"0 0 24 24\"\n",
              "       width=\"24px\">\n",
              "    <path d=\"M0 0h24v24H0V0z\" fill=\"none\"/>\n",
              "    <path d=\"M18.56 5.44l.94 2.06.94-2.06 2.06-.94-2.06-.94-.94-2.06-.94 2.06-2.06.94zm-11 1L8.5 8.5l.94-2.06 2.06-.94-2.06-.94L8.5 2.5l-.94 2.06-2.06.94zm10 10l.94 2.06.94-2.06 2.06-.94-2.06-.94-.94-2.06-.94 2.06-2.06.94z\"/><path d=\"M17.41 7.96l-1.37-1.37c-.4-.4-.92-.59-1.43-.59-.52 0-1.04.2-1.43.59L10.3 9.45l-7.72 7.72c-.78.78-.78 2.05 0 2.83L4 21.41c.39.39.9.59 1.41.59.51 0 1.02-.2 1.41-.59l7.78-7.78 2.81-2.81c.8-.78.8-2.07 0-2.86zM5.41 20L4 18.59l7.72-7.72 1.47 1.35L5.41 20z\"/>\n",
              "  </svg>\n",
              "      </button>\n",
              "      \n",
              "  <style>\n",
              "    .colab-df-container {\n",
              "      display:flex;\n",
              "      flex-wrap:wrap;\n",
              "      gap: 12px;\n",
              "    }\n",
              "\n",
              "    .colab-df-convert {\n",
              "      background-color: #E8F0FE;\n",
              "      border: none;\n",
              "      border-radius: 50%;\n",
              "      cursor: pointer;\n",
              "      display: none;\n",
              "      fill: #1967D2;\n",
              "      height: 32px;\n",
              "      padding: 0 0 0 0;\n",
              "      width: 32px;\n",
              "    }\n",
              "\n",
              "    .colab-df-convert:hover {\n",
              "      background-color: #E2EBFA;\n",
              "      box-shadow: 0px 1px 2px rgba(60, 64, 67, 0.3), 0px 1px 3px 1px rgba(60, 64, 67, 0.15);\n",
              "      fill: #174EA6;\n",
              "    }\n",
              "\n",
              "    [theme=dark] .colab-df-convert {\n",
              "      background-color: #3B4455;\n",
              "      fill: #D2E3FC;\n",
              "    }\n",
              "\n",
              "    [theme=dark] .colab-df-convert:hover {\n",
              "      background-color: #434B5C;\n",
              "      box-shadow: 0px 1px 3px 1px rgba(0, 0, 0, 0.15);\n",
              "      filter: drop-shadow(0px 1px 2px rgba(0, 0, 0, 0.3));\n",
              "      fill: #FFFFFF;\n",
              "    }\n",
              "  </style>\n",
              "\n",
              "      <script>\n",
              "        const buttonEl =\n",
              "          document.querySelector('#df-76168043-f23e-4a82-91bd-5da1dff7ab8d button.colab-df-convert');\n",
              "        buttonEl.style.display =\n",
              "          google.colab.kernel.accessAllowed ? 'block' : 'none';\n",
              "\n",
              "        async function convertToInteractive(key) {\n",
              "          const element = document.querySelector('#df-76168043-f23e-4a82-91bd-5da1dff7ab8d');\n",
              "          const dataTable =\n",
              "            await google.colab.kernel.invokeFunction('convertToInteractive',\n",
              "                                                     [key], {});\n",
              "          if (!dataTable) return;\n",
              "\n",
              "          const docLinkHtml = 'Like what you see? Visit the ' +\n",
              "            '<a target=\"_blank\" href=https://colab.research.google.com/notebooks/data_table.ipynb>data table notebook</a>'\n",
              "            + ' to learn more about interactive tables.';\n",
              "          element.innerHTML = '';\n",
              "          dataTable['output_type'] = 'display_data';\n",
              "          await google.colab.output.renderOutput(dataTable, element);\n",
              "          const docLink = document.createElement('div');\n",
              "          docLink.innerHTML = docLinkHtml;\n",
              "          element.appendChild(docLink);\n",
              "        }\n",
              "      </script>\n",
              "    </div>\n",
              "  </div>\n",
              "  "
            ]
          },
          "metadata": {},
          "execution_count": 33
        }
      ]
    },
    {
      "cell_type": "code",
      "source": [
        "df.info() #prints the infomartion about the dataframe"
      ],
      "metadata": {
        "colab": {
          "base_uri": "https://localhost:8080/"
        },
        "id": "2Eo9bLhGVZc7",
        "outputId": "3500ba2d-b497-450c-fe76-cdbded50184f"
      },
      "execution_count": null,
      "outputs": [
        {
          "output_type": "stream",
          "name": "stdout",
          "text": [
            "<class 'pandas.core.frame.DataFrame'>\n",
            "RangeIndex: 2019501 entries, 0 to 2019500\n",
            "Data columns (total 12 columns):\n",
            " #   Column                  Dtype  \n",
            "---  ------                  -----  \n",
            " 0   order_id                int64  \n",
            " 1   user_id                 int64  \n",
            " 2   order_number            int64  \n",
            " 3   order_dow               int64  \n",
            " 4   order_hour_of_day       int64  \n",
            " 5   days_since_prior_order  float64\n",
            " 6   product_id              int64  \n",
            " 7   add_to_cart_order       int64  \n",
            " 8   reordered               int64  \n",
            " 9   department_id           int64  \n",
            " 10  department              object \n",
            " 11  product_name            object \n",
            "dtypes: float64(1), int64(9), object(2)\n",
            "memory usage: 184.9+ MB\n"
          ]
        }
      ]
    },
    {
      "cell_type": "code",
      "source": [
        "df.isnull().sum() #returns the number of missing values in the dataset."
      ],
      "metadata": {
        "colab": {
          "base_uri": "https://localhost:8080/"
        },
        "id": "4tud_IOYW7oj",
        "outputId": "9390c0b1-c977-4915-df58-ba80a1c56803"
      },
      "execution_count": null,
      "outputs": [
        {
          "output_type": "execute_result",
          "data": {
            "text/plain": [
              "order_id                       0\n",
              "user_id                        0\n",
              "order_number                   0\n",
              "order_dow                      0\n",
              "order_hour_of_day              0\n",
              "days_since_prior_order    124342\n",
              "product_id                     0\n",
              "add_to_cart_order              0\n",
              "reordered                      0\n",
              "department_id                  0\n",
              "department                     0\n",
              "product_name                   0\n",
              "dtype: int64"
            ]
          },
          "metadata": {},
          "execution_count": 30
        }
      ]
    },
    {
      "cell_type": "code",
      "source": [
        "df.nunique() #returns the number of unique values for each column"
      ],
      "metadata": {
        "colab": {
          "base_uri": "https://localhost:8080/"
        },
        "id": "aLDqSf-UXDEL",
        "outputId": "7b17c798-9351-4cb3-d58b-f53785f1eeb1"
      },
      "execution_count": null,
      "outputs": [
        {
          "output_type": "execute_result",
          "data": {
            "text/plain": [
              "order_id                  200000\n",
              "user_id                   105273\n",
              "order_number                 100\n",
              "order_dow                      7\n",
              "order_hour_of_day             24\n",
              "days_since_prior_order        31\n",
              "product_id                   134\n",
              "add_to_cart_order            137\n",
              "reordered                      2\n",
              "department_id                 21\n",
              "department                    21\n",
              "product_name                 134\n",
              "dtype: int64"
            ]
          },
          "metadata": {},
          "execution_count": 31
        }
      ]
    },
    {
      "cell_type": "code",
      "source": [
        "df.describe() #displays summary statistics"
      ],
      "metadata": {
        "colab": {
          "base_uri": "https://localhost:8080/",
          "height": 364
        },
        "id": "Qey-zDAkXHTN",
        "outputId": "c245e99d-435e-450d-d26e-7cba0125987d"
      },
      "execution_count": null,
      "outputs": [
        {
          "output_type": "execute_result",
          "data": {
            "text/plain": [
              "           order_id       user_id  order_number     order_dow  \\\n",
              "count 2019501.00000 2019501.00000 2019501.00000 2019501.00000   \n",
              "mean  1707012.76245  103067.26570      17.15138       2.73537   \n",
              "std    985983.19623   59491.16507      17.52576       2.09388   \n",
              "min        10.00000       2.00000       1.00000       0.00000   \n",
              "25%    852649.00000   51584.00000       5.00000       1.00000   \n",
              "50%   1705004.00000  102690.00000      11.00000       3.00000   \n",
              "75%   2559031.00000  154600.00000      24.00000       5.00000   \n",
              "max   3421080.00000  206209.00000     100.00000       6.00000   \n",
              "\n",
              "       order_hour_of_day  days_since_prior_order    product_id  \\\n",
              "count      2019501.00000           1895159.00000 2019501.00000   \n",
              "mean            13.43948                11.38603      71.20590   \n",
              "std              4.24101                 8.97098      38.20727   \n",
              "min              0.00000                 0.00000       1.00000   \n",
              "25%             10.00000                 5.00000      31.00000   \n",
              "50%             13.00000                 8.00000      83.00000   \n",
              "75%             16.00000                15.00000     107.00000   \n",
              "max             23.00000                30.00000     134.00000   \n",
              "\n",
              "       add_to_cart_order     reordered  department_id  \n",
              "count      2019501.00000 2019501.00000  2019501.00000  \n",
              "mean             8.36317       0.58974        9.92835  \n",
              "std              7.15006       0.49188        6.28293  \n",
              "min              1.00000       0.00000        1.00000  \n",
              "25%              3.00000       0.00000        4.00000  \n",
              "50%              6.00000       1.00000        9.00000  \n",
              "75%             11.00000       1.00000       16.00000  \n",
              "max            137.00000       1.00000       21.00000  "
            ],
            "text/html": [
              "\n",
              "  <div id=\"df-fd478b5d-97fc-4cd6-a7e4-fa1d4bc5dd86\">\n",
              "    <div class=\"colab-df-container\">\n",
              "      <div>\n",
              "<style scoped>\n",
              "    .dataframe tbody tr th:only-of-type {\n",
              "        vertical-align: middle;\n",
              "    }\n",
              "\n",
              "    .dataframe tbody tr th {\n",
              "        vertical-align: top;\n",
              "    }\n",
              "\n",
              "    .dataframe thead th {\n",
              "        text-align: right;\n",
              "    }\n",
              "</style>\n",
              "<table border=\"1\" class=\"dataframe\">\n",
              "  <thead>\n",
              "    <tr style=\"text-align: right;\">\n",
              "      <th></th>\n",
              "      <th>order_id</th>\n",
              "      <th>user_id</th>\n",
              "      <th>order_number</th>\n",
              "      <th>order_dow</th>\n",
              "      <th>order_hour_of_day</th>\n",
              "      <th>days_since_prior_order</th>\n",
              "      <th>product_id</th>\n",
              "      <th>add_to_cart_order</th>\n",
              "      <th>reordered</th>\n",
              "      <th>department_id</th>\n",
              "    </tr>\n",
              "  </thead>\n",
              "  <tbody>\n",
              "    <tr>\n",
              "      <th>count</th>\n",
              "      <td>2019501.00000</td>\n",
              "      <td>2019501.00000</td>\n",
              "      <td>2019501.00000</td>\n",
              "      <td>2019501.00000</td>\n",
              "      <td>2019501.00000</td>\n",
              "      <td>1895159.00000</td>\n",
              "      <td>2019501.00000</td>\n",
              "      <td>2019501.00000</td>\n",
              "      <td>2019501.00000</td>\n",
              "      <td>2019501.00000</td>\n",
              "    </tr>\n",
              "    <tr>\n",
              "      <th>mean</th>\n",
              "      <td>1707012.76245</td>\n",
              "      <td>103067.26570</td>\n",
              "      <td>17.15138</td>\n",
              "      <td>2.73537</td>\n",
              "      <td>13.43948</td>\n",
              "      <td>11.38603</td>\n",
              "      <td>71.20590</td>\n",
              "      <td>8.36317</td>\n",
              "      <td>0.58974</td>\n",
              "      <td>9.92835</td>\n",
              "    </tr>\n",
              "    <tr>\n",
              "      <th>std</th>\n",
              "      <td>985983.19623</td>\n",
              "      <td>59491.16507</td>\n",
              "      <td>17.52576</td>\n",
              "      <td>2.09388</td>\n",
              "      <td>4.24101</td>\n",
              "      <td>8.97098</td>\n",
              "      <td>38.20727</td>\n",
              "      <td>7.15006</td>\n",
              "      <td>0.49188</td>\n",
              "      <td>6.28293</td>\n",
              "    </tr>\n",
              "    <tr>\n",
              "      <th>min</th>\n",
              "      <td>10.00000</td>\n",
              "      <td>2.00000</td>\n",
              "      <td>1.00000</td>\n",
              "      <td>0.00000</td>\n",
              "      <td>0.00000</td>\n",
              "      <td>0.00000</td>\n",
              "      <td>1.00000</td>\n",
              "      <td>1.00000</td>\n",
              "      <td>0.00000</td>\n",
              "      <td>1.00000</td>\n",
              "    </tr>\n",
              "    <tr>\n",
              "      <th>25%</th>\n",
              "      <td>852649.00000</td>\n",
              "      <td>51584.00000</td>\n",
              "      <td>5.00000</td>\n",
              "      <td>1.00000</td>\n",
              "      <td>10.00000</td>\n",
              "      <td>5.00000</td>\n",
              "      <td>31.00000</td>\n",
              "      <td>3.00000</td>\n",
              "      <td>0.00000</td>\n",
              "      <td>4.00000</td>\n",
              "    </tr>\n",
              "    <tr>\n",
              "      <th>50%</th>\n",
              "      <td>1705004.00000</td>\n",
              "      <td>102690.00000</td>\n",
              "      <td>11.00000</td>\n",
              "      <td>3.00000</td>\n",
              "      <td>13.00000</td>\n",
              "      <td>8.00000</td>\n",
              "      <td>83.00000</td>\n",
              "      <td>6.00000</td>\n",
              "      <td>1.00000</td>\n",
              "      <td>9.00000</td>\n",
              "    </tr>\n",
              "    <tr>\n",
              "      <th>75%</th>\n",
              "      <td>2559031.00000</td>\n",
              "      <td>154600.00000</td>\n",
              "      <td>24.00000</td>\n",
              "      <td>5.00000</td>\n",
              "      <td>16.00000</td>\n",
              "      <td>15.00000</td>\n",
              "      <td>107.00000</td>\n",
              "      <td>11.00000</td>\n",
              "      <td>1.00000</td>\n",
              "      <td>16.00000</td>\n",
              "    </tr>\n",
              "    <tr>\n",
              "      <th>max</th>\n",
              "      <td>3421080.00000</td>\n",
              "      <td>206209.00000</td>\n",
              "      <td>100.00000</td>\n",
              "      <td>6.00000</td>\n",
              "      <td>23.00000</td>\n",
              "      <td>30.00000</td>\n",
              "      <td>134.00000</td>\n",
              "      <td>137.00000</td>\n",
              "      <td>1.00000</td>\n",
              "      <td>21.00000</td>\n",
              "    </tr>\n",
              "  </tbody>\n",
              "</table>\n",
              "</div>\n",
              "      <button class=\"colab-df-convert\" onclick=\"convertToInteractive('df-fd478b5d-97fc-4cd6-a7e4-fa1d4bc5dd86')\"\n",
              "              title=\"Convert this dataframe to an interactive table.\"\n",
              "              style=\"display:none;\">\n",
              "        \n",
              "  <svg xmlns=\"http://www.w3.org/2000/svg\" height=\"24px\"viewBox=\"0 0 24 24\"\n",
              "       width=\"24px\">\n",
              "    <path d=\"M0 0h24v24H0V0z\" fill=\"none\"/>\n",
              "    <path d=\"M18.56 5.44l.94 2.06.94-2.06 2.06-.94-2.06-.94-.94-2.06-.94 2.06-2.06.94zm-11 1L8.5 8.5l.94-2.06 2.06-.94-2.06-.94L8.5 2.5l-.94 2.06-2.06.94zm10 10l.94 2.06.94-2.06 2.06-.94-2.06-.94-.94-2.06-.94 2.06-2.06.94z\"/><path d=\"M17.41 7.96l-1.37-1.37c-.4-.4-.92-.59-1.43-.59-.52 0-1.04.2-1.43.59L10.3 9.45l-7.72 7.72c-.78.78-.78 2.05 0 2.83L4 21.41c.39.39.9.59 1.41.59.51 0 1.02-.2 1.41-.59l7.78-7.78 2.81-2.81c.8-.78.8-2.07 0-2.86zM5.41 20L4 18.59l7.72-7.72 1.47 1.35L5.41 20z\"/>\n",
              "  </svg>\n",
              "      </button>\n",
              "      \n",
              "  <style>\n",
              "    .colab-df-container {\n",
              "      display:flex;\n",
              "      flex-wrap:wrap;\n",
              "      gap: 12px;\n",
              "    }\n",
              "\n",
              "    .colab-df-convert {\n",
              "      background-color: #E8F0FE;\n",
              "      border: none;\n",
              "      border-radius: 50%;\n",
              "      cursor: pointer;\n",
              "      display: none;\n",
              "      fill: #1967D2;\n",
              "      height: 32px;\n",
              "      padding: 0 0 0 0;\n",
              "      width: 32px;\n",
              "    }\n",
              "\n",
              "    .colab-df-convert:hover {\n",
              "      background-color: #E2EBFA;\n",
              "      box-shadow: 0px 1px 2px rgba(60, 64, 67, 0.3), 0px 1px 3px 1px rgba(60, 64, 67, 0.15);\n",
              "      fill: #174EA6;\n",
              "    }\n",
              "\n",
              "    [theme=dark] .colab-df-convert {\n",
              "      background-color: #3B4455;\n",
              "      fill: #D2E3FC;\n",
              "    }\n",
              "\n",
              "    [theme=dark] .colab-df-convert:hover {\n",
              "      background-color: #434B5C;\n",
              "      box-shadow: 0px 1px 3px 1px rgba(0, 0, 0, 0.15);\n",
              "      filter: drop-shadow(0px 1px 2px rgba(0, 0, 0, 0.3));\n",
              "      fill: #FFFFFF;\n",
              "    }\n",
              "  </style>\n",
              "\n",
              "      <script>\n",
              "        const buttonEl =\n",
              "          document.querySelector('#df-fd478b5d-97fc-4cd6-a7e4-fa1d4bc5dd86 button.colab-df-convert');\n",
              "        buttonEl.style.display =\n",
              "          google.colab.kernel.accessAllowed ? 'block' : 'none';\n",
              "\n",
              "        async function convertToInteractive(key) {\n",
              "          const element = document.querySelector('#df-fd478b5d-97fc-4cd6-a7e4-fa1d4bc5dd86');\n",
              "          const dataTable =\n",
              "            await google.colab.kernel.invokeFunction('convertToInteractive',\n",
              "                                                     [key], {});\n",
              "          if (!dataTable) return;\n",
              "\n",
              "          const docLinkHtml = 'Like what you see? Visit the ' +\n",
              "            '<a target=\"_blank\" href=https://colab.research.google.com/notebooks/data_table.ipynb>data table notebook</a>'\n",
              "            + ' to learn more about interactive tables.';\n",
              "          element.innerHTML = '';\n",
              "          dataTable['output_type'] = 'display_data';\n",
              "          await google.colab.output.renderOutput(dataTable, element);\n",
              "          const docLink = document.createElement('div');\n",
              "          docLink.innerHTML = docLinkHtml;\n",
              "          element.appendChild(docLink);\n",
              "        }\n",
              "      </script>\n",
              "    </div>\n",
              "  </div>\n",
              "  "
            ]
          },
          "metadata": {},
          "execution_count": 36
        }
      ]
    },
    {
      "cell_type": "code",
      "source": [
        "df['add_to_cart_order'].mean()"
      ],
      "metadata": {
        "colab": {
          "base_uri": "https://localhost:8080/"
        },
        "id": "Zzd3Uvk50Kyo",
        "outputId": "e9415215-f5c5-4848-8a06-ab64c1fa0173"
      },
      "execution_count": null,
      "outputs": [
        {
          "output_type": "execute_result",
          "data": {
            "text/plain": [
              "8.363173377978026"
            ]
          },
          "metadata": {},
          "execution_count": 38
        }
      ]
    },
    {
      "cell_type": "markdown",
      "source": [
        "## **The number of orders that users have made**"
      ],
      "metadata": {
        "id": "E_0EXaQ9_DTW"
      }
    },
    {
      "cell_type": "code",
      "source": [
        "df.groupby('order_number')['user_id'].agg(['count'])"
      ],
      "metadata": {
        "colab": {
          "base_uri": "https://localhost:8080/",
          "height": 455
        },
        "id": "YNvCSTMv_FJJ",
        "outputId": "69ba0b08-aefc-46c4-d657-4431200f9cac"
      },
      "execution_count": null,
      "outputs": [
        {
          "output_type": "execute_result",
          "data": {
            "text/plain": [
              "               count\n",
              "order_number        \n",
              "1             124342\n",
              "2             122397\n",
              "3             120627\n",
              "4             118573\n",
              "5             105482\n",
              "...              ...\n",
              "96              1051\n",
              "97               834\n",
              "98               964\n",
              "99               716\n",
              "100              493\n",
              "\n",
              "[100 rows x 1 columns]"
            ],
            "text/html": [
              "\n",
              "  <div id=\"df-340765ac-b7c1-47c6-8572-a992749dd64d\">\n",
              "    <div class=\"colab-df-container\">\n",
              "      <div>\n",
              "<style scoped>\n",
              "    .dataframe tbody tr th:only-of-type {\n",
              "        vertical-align: middle;\n",
              "    }\n",
              "\n",
              "    .dataframe tbody tr th {\n",
              "        vertical-align: top;\n",
              "    }\n",
              "\n",
              "    .dataframe thead th {\n",
              "        text-align: right;\n",
              "    }\n",
              "</style>\n",
              "<table border=\"1\" class=\"dataframe\">\n",
              "  <thead>\n",
              "    <tr style=\"text-align: right;\">\n",
              "      <th></th>\n",
              "      <th>count</th>\n",
              "    </tr>\n",
              "    <tr>\n",
              "      <th>order_number</th>\n",
              "      <th></th>\n",
              "    </tr>\n",
              "  </thead>\n",
              "  <tbody>\n",
              "    <tr>\n",
              "      <th>1</th>\n",
              "      <td>124342</td>\n",
              "    </tr>\n",
              "    <tr>\n",
              "      <th>2</th>\n",
              "      <td>122397</td>\n",
              "    </tr>\n",
              "    <tr>\n",
              "      <th>3</th>\n",
              "      <td>120627</td>\n",
              "    </tr>\n",
              "    <tr>\n",
              "      <th>4</th>\n",
              "      <td>118573</td>\n",
              "    </tr>\n",
              "    <tr>\n",
              "      <th>5</th>\n",
              "      <td>105482</td>\n",
              "    </tr>\n",
              "    <tr>\n",
              "      <th>...</th>\n",
              "      <td>...</td>\n",
              "    </tr>\n",
              "    <tr>\n",
              "      <th>96</th>\n",
              "      <td>1051</td>\n",
              "    </tr>\n",
              "    <tr>\n",
              "      <th>97</th>\n",
              "      <td>834</td>\n",
              "    </tr>\n",
              "    <tr>\n",
              "      <th>98</th>\n",
              "      <td>964</td>\n",
              "    </tr>\n",
              "    <tr>\n",
              "      <th>99</th>\n",
              "      <td>716</td>\n",
              "    </tr>\n",
              "    <tr>\n",
              "      <th>100</th>\n",
              "      <td>493</td>\n",
              "    </tr>\n",
              "  </tbody>\n",
              "</table>\n",
              "<p>100 rows × 1 columns</p>\n",
              "</div>\n",
              "      <button class=\"colab-df-convert\" onclick=\"convertToInteractive('df-340765ac-b7c1-47c6-8572-a992749dd64d')\"\n",
              "              title=\"Convert this dataframe to an interactive table.\"\n",
              "              style=\"display:none;\">\n",
              "        \n",
              "  <svg xmlns=\"http://www.w3.org/2000/svg\" height=\"24px\"viewBox=\"0 0 24 24\"\n",
              "       width=\"24px\">\n",
              "    <path d=\"M0 0h24v24H0V0z\" fill=\"none\"/>\n",
              "    <path d=\"M18.56 5.44l.94 2.06.94-2.06 2.06-.94-2.06-.94-.94-2.06-.94 2.06-2.06.94zm-11 1L8.5 8.5l.94-2.06 2.06-.94-2.06-.94L8.5 2.5l-.94 2.06-2.06.94zm10 10l.94 2.06.94-2.06 2.06-.94-2.06-.94-.94-2.06-.94 2.06-2.06.94z\"/><path d=\"M17.41 7.96l-1.37-1.37c-.4-.4-.92-.59-1.43-.59-.52 0-1.04.2-1.43.59L10.3 9.45l-7.72 7.72c-.78.78-.78 2.05 0 2.83L4 21.41c.39.39.9.59 1.41.59.51 0 1.02-.2 1.41-.59l7.78-7.78 2.81-2.81c.8-.78.8-2.07 0-2.86zM5.41 20L4 18.59l7.72-7.72 1.47 1.35L5.41 20z\"/>\n",
              "  </svg>\n",
              "      </button>\n",
              "      \n",
              "  <style>\n",
              "    .colab-df-container {\n",
              "      display:flex;\n",
              "      flex-wrap:wrap;\n",
              "      gap: 12px;\n",
              "    }\n",
              "\n",
              "    .colab-df-convert {\n",
              "      background-color: #E8F0FE;\n",
              "      border: none;\n",
              "      border-radius: 50%;\n",
              "      cursor: pointer;\n",
              "      display: none;\n",
              "      fill: #1967D2;\n",
              "      height: 32px;\n",
              "      padding: 0 0 0 0;\n",
              "      width: 32px;\n",
              "    }\n",
              "\n",
              "    .colab-df-convert:hover {\n",
              "      background-color: #E2EBFA;\n",
              "      box-shadow: 0px 1px 2px rgba(60, 64, 67, 0.3), 0px 1px 3px 1px rgba(60, 64, 67, 0.15);\n",
              "      fill: #174EA6;\n",
              "    }\n",
              "\n",
              "    [theme=dark] .colab-df-convert {\n",
              "      background-color: #3B4455;\n",
              "      fill: #D2E3FC;\n",
              "    }\n",
              "\n",
              "    [theme=dark] .colab-df-convert:hover {\n",
              "      background-color: #434B5C;\n",
              "      box-shadow: 0px 1px 3px 1px rgba(0, 0, 0, 0.15);\n",
              "      filter: drop-shadow(0px 1px 2px rgba(0, 0, 0, 0.3));\n",
              "      fill: #FFFFFF;\n",
              "    }\n",
              "  </style>\n",
              "\n",
              "      <script>\n",
              "        const buttonEl =\n",
              "          document.querySelector('#df-340765ac-b7c1-47c6-8572-a992749dd64d button.colab-df-convert');\n",
              "        buttonEl.style.display =\n",
              "          google.colab.kernel.accessAllowed ? 'block' : 'none';\n",
              "\n",
              "        async function convertToInteractive(key) {\n",
              "          const element = document.querySelector('#df-340765ac-b7c1-47c6-8572-a992749dd64d');\n",
              "          const dataTable =\n",
              "            await google.colab.kernel.invokeFunction('convertToInteractive',\n",
              "                                                     [key], {});\n",
              "          if (!dataTable) return;\n",
              "\n",
              "          const docLinkHtml = 'Like what you see? Visit the ' +\n",
              "            '<a target=\"_blank\" href=https://colab.research.google.com/notebooks/data_table.ipynb>data table notebook</a>'\n",
              "            + ' to learn more about interactive tables.';\n",
              "          element.innerHTML = '';\n",
              "          dataTable['output_type'] = 'display_data';\n",
              "          await google.colab.output.renderOutput(dataTable, element);\n",
              "          const docLink = document.createElement('div');\n",
              "          docLink.innerHTML = docLinkHtml;\n",
              "          element.appendChild(docLink);\n",
              "        }\n",
              "      </script>\n",
              "    </div>\n",
              "  </div>\n",
              "  "
            ]
          },
          "metadata": {},
          "execution_count": 39
        }
      ]
    },
    {
      "cell_type": "code",
      "source": [
        "def order_number_group(x):\n",
        "    if x <= 20 :\n",
        "        x= '1-20 orders'\n",
        "    elif x >20 and x <=40:\n",
        "        x= '21-40 orders'\n",
        "    elif x >40 and x <=60:\n",
        "        x= '41-60 orders'\n",
        "    elif x >60 and x <=80:\n",
        "        x= '61-80 orders'\n",
        "    else:\n",
        "        x= '81-100 orders'\n",
        "    return x"
      ],
      "metadata": {
        "id": "U1XehLia_gyR"
      },
      "execution_count": null,
      "outputs": []
    },
    {
      "cell_type": "code",
      "source": [
        "df['order_number_group']=df['order_number'].apply(order_number_group)"
      ],
      "metadata": {
        "id": "nIulqvkJ_ubi"
      },
      "execution_count": null,
      "outputs": []
    },
    {
      "cell_type": "code",
      "source": [
        "df.groupby('order_number_group')['user_id'].agg(['count']).sort_values(by='count',ascending=False).plot(kind='pie',autopct='%1.3f%%',subplots=True,title='Number of orders',figsize=(9,9))"
      ],
      "metadata": {
        "colab": {
          "base_uri": "https://localhost:8080/",
          "height": 620
        },
        "id": "uYZ23xp0_-eH",
        "outputId": "b28e8170-e70e-47a8-bc35-3658b0f920b3"
      },
      "execution_count": null,
      "outputs": [
        {
          "output_type": "execute_result",
          "data": {
            "text/plain": [
              "array([<matplotlib.axes._subplots.AxesSubplot object at 0x7efc2422b970>],\n",
              "      dtype=object)"
            ]
          },
          "metadata": {},
          "execution_count": 45
        },
        {
          "output_type": "display_data",
          "data": {
            "text/plain": [
              "<Figure size 648x648 with 1 Axes>"
            ],
            "image/png": "[encoded data removed]"
          },
          "metadata": {}
        }
      ]
    },
    {
      "cell_type": "markdown",
      "source": [
        "## **Products users add to the cart**\n",
        "\n",
        "\n",
        "\n"
      ],
      "metadata": {
        "id": "pm_nEgc1A5kI"
      }
    },
    {
      "cell_type": "code",
      "source": [
        "atco_u=df.groupby('add_to_cart_order',as_index=False).agg({'user_id': 'count'}).sort_values(by='user_id',ascending=False)"
      ],
      "metadata": {
        "id": "mVm2LodLB3CM"
      },
      "execution_count": null,
      "outputs": []
    },
    {
      "cell_type": "code",
      "source": [
        "sns.distplot(atco_u.query('user_id<50').user_id, kde=False)"
      ],
      "metadata": {
        "colab": {
          "base_uri": "https://localhost:8080/",
          "height": 297
        },
        "id": "hNeFacdUB7y2",
        "outputId": "6d3a5371-449b-4d8c-da75-dc45d3f7701b"
      },
      "execution_count": null,
      "outputs": [
        {
          "output_type": "execute_result",
          "data": {
            "text/plain": [
              "<matplotlib.axes._subplots.AxesSubplot at 0x7efc23ceb0d0>"
            ]
          },
          "metadata": {},
          "execution_count": 47
        },
        {
          "output_type": "display_data",
          "data": {
            "text/plain": [
              "<Figure size 432x288 with 1 Axes>"
            ],
            "image/png": "[encoded data removed]"
          },
          "metadata": {
            "needs_background": "light"
          }
        }
      ]
    },
    {
      "cell_type": "markdown",
      "source": [
        "### **Products were added to the cart**"
      ],
      "metadata": {
        "id": "XtNoy_u6CPI3"
      }
    },
    {
      "cell_type": "code",
      "source": [
        "on_atco=df.groupby('order_number',as_index=False).agg({'add_to_cart_order': 'count'}).sort_values(by='add_to_cart_order',ascending=False)"
      ],
      "metadata": {
        "id": "MQSeWAIHCgBq"
      },
      "execution_count": null,
      "outputs": []
    },
    {
      "cell_type": "code",
      "source": [
        "sns.distplot(on_atco.add_to_cart_order, kde=False)"
      ],
      "metadata": {
        "colab": {
          "base_uri": "https://localhost:8080/",
          "height": 297
        },
        "id": "ioiCxHp-Cp5Y",
        "outputId": "285c51df-ce0d-4b0d-ad06-3016f4799921"
      },
      "execution_count": null,
      "outputs": [
        {
          "output_type": "execute_result",
          "data": {
            "text/plain": [
              "<matplotlib.axes._subplots.AxesSubplot at 0x7efc23c098e0>"
            ]
          },
          "metadata": {},
          "execution_count": 49
        },
        {
          "output_type": "display_data",
          "data": {
            "text/plain": [
              "<Figure size 432x288 with 1 Axes>"
            ],
            "image/png": "[encoded data removed]"
          },
          "metadata": {
            "needs_background": "light"
          }
        }
      ]
    },
    {
      "cell_type": "markdown",
      "source": [
        "### **The time when the order was made by day and time of day**"
      ],
      "metadata": {
        "id": "cE-po9wVDFHx"
      }
    },
    {
      "cell_type": "code",
      "source": [
        "df['days_since_prior_order']=df['days_since_prior_order'].fillna('0')"
      ],
      "metadata": {
        "id": "URShd9Q8F5EV"
      },
      "execution_count": null,
      "outputs": []
    },
    {
      "cell_type": "code",
      "source": [
        "df['days_since_prior_order']=df['days_since_prior_order'].astype(int)"
      ],
      "metadata": {
        "id": "zWHEKGBkF94p"
      },
      "execution_count": null,
      "outputs": []
    },
    {
      "cell_type": "code",
      "source": [
        "df.groupby('order_hour_of_day', as_index=False).agg({'user_id':'count'}).sort_values(by='user_id',ascending=False)"
      ],
      "metadata": {
        "colab": {
          "base_uri": "https://localhost:8080/",
          "height": 424
        },
        "id": "Ibc7-3BAGI8m",
        "outputId": "618c1344-17d6-4de9-c9f4-d242e030141d"
      },
      "execution_count": null,
      "outputs": [
        {
          "output_type": "execute_result",
          "data": {
            "text/plain": [
              "    order_hour_of_day  user_id\n",
              "10                 10   173306\n",
              "11                 11   170291\n",
              "14                 14   167831\n",
              "15                 15   167157\n",
              "13                 13   166376\n",
              "..                ...      ...\n",
              "1                   1     7283\n",
              "5                   5     5732\n",
              "2                   2     4210\n",
              "4                   4     3269\n",
              "3                   3     2994\n",
              "\n",
              "[24 rows x 2 columns]"
            ],
            "text/html": [
              "\n",
              "  <div id=\"df-fab8c591-ce99-4444-b3e0-5b5928fb1bc8\">\n",
              "    <div class=\"colab-df-container\">\n",
              "      <div>\n",
              "<style scoped>\n",
              "    .dataframe tbody tr th:only-of-type {\n",
              "        vertical-align: middle;\n",
              "    }\n",
              "\n",
              "    .dataframe tbody tr th {\n",
              "        vertical-align: top;\n",
              "    }\n",
              "\n",
              "    .dataframe thead th {\n",
              "        text-align: right;\n",
              "    }\n",
              "</style>\n",
              "<table border=\"1\" class=\"dataframe\">\n",
              "  <thead>\n",
              "    <tr style=\"text-align: right;\">\n",
              "      <th></th>\n",
              "      <th>order_hour_of_day</th>\n",
              "      <th>user_id</th>\n",
              "    </tr>\n",
              "  </thead>\n",
              "  <tbody>\n",
              "    <tr>\n",
              "      <th>10</th>\n",
              "      <td>10</td>\n",
              "      <td>173306</td>\n",
              "    </tr>\n",
              "    <tr>\n",
              "      <th>11</th>\n",
              "      <td>11</td>\n",
              "      <td>170291</td>\n",
              "    </tr>\n",
              "    <tr>\n",
              "      <th>14</th>\n",
              "      <td>14</td>\n",
              "      <td>167831</td>\n",
              "    </tr>\n",
              "    <tr>\n",
              "      <th>15</th>\n",
              "      <td>15</td>\n",
              "      <td>167157</td>\n",
              "    </tr>\n",
              "    <tr>\n",
              "      <th>13</th>\n",
              "      <td>13</td>\n",
              "      <td>166376</td>\n",
              "    </tr>\n",
              "    <tr>\n",
              "      <th>...</th>\n",
              "      <td>...</td>\n",
              "      <td>...</td>\n",
              "    </tr>\n",
              "    <tr>\n",
              "      <th>1</th>\n",
              "      <td>1</td>\n",
              "      <td>7283</td>\n",
              "    </tr>\n",
              "    <tr>\n",
              "      <th>5</th>\n",
              "      <td>5</td>\n",
              "      <td>5732</td>\n",
              "    </tr>\n",
              "    <tr>\n",
              "      <th>2</th>\n",
              "      <td>2</td>\n",
              "      <td>4210</td>\n",
              "    </tr>\n",
              "    <tr>\n",
              "      <th>4</th>\n",
              "      <td>4</td>\n",
              "      <td>3269</td>\n",
              "    </tr>\n",
              "    <tr>\n",
              "      <th>3</th>\n",
              "      <td>3</td>\n",
              "      <td>2994</td>\n",
              "    </tr>\n",
              "  </tbody>\n",
              "</table>\n",
              "<p>24 rows × 2 columns</p>\n",
              "</div>\n",
              "      <button class=\"colab-df-convert\" onclick=\"convertToInteractive('df-fab8c591-ce99-4444-b3e0-5b5928fb1bc8')\"\n",
              "              title=\"Convert this dataframe to an interactive table.\"\n",
              "              style=\"display:none;\">\n",
              "        \n",
              "  <svg xmlns=\"http://www.w3.org/2000/svg\" height=\"24px\"viewBox=\"0 0 24 24\"\n",
              "       width=\"24px\">\n",
              "    <path d=\"M0 0h24v24H0V0z\" fill=\"none\"/>\n",
              "    <path d=\"M18.56 5.44l.94 2.06.94-2.06 2.06-.94-2.06-.94-.94-2.06-.94 2.06-2.06.94zm-11 1L8.5 8.5l.94-2.06 2.06-.94-2.06-.94L8.5 2.5l-.94 2.06-2.06.94zm10 10l.94 2.06.94-2.06 2.06-.94-2.06-.94-.94-2.06-.94 2.06-2.06.94z\"/><path d=\"M17.41 7.96l-1.37-1.37c-.4-.4-.92-.59-1.43-.59-.52 0-1.04.2-1.43.59L10.3 9.45l-7.72 7.72c-.78.78-.78 2.05 0 2.83L4 21.41c.39.39.9.59 1.41.59.51 0 1.02-.2 1.41-.59l7.78-7.78 2.81-2.81c.8-.78.8-2.07 0-2.86zM5.41 20L4 18.59l7.72-7.72 1.47 1.35L5.41 20z\"/>\n",
              "  </svg>\n",
              "      </button>\n",
              "      \n",
              "  <style>\n",
              "    .colab-df-container {\n",
              "      display:flex;\n",
              "      flex-wrap:wrap;\n",
              "      gap: 12px;\n",
              "    }\n",
              "\n",
              "    .colab-df-convert {\n",
              "      background-color: #E8F0FE;\n",
              "      border: none;\n",
              "      border-radius: 50%;\n",
              "      cursor: pointer;\n",
              "      display: none;\n",
              "      fill: #1967D2;\n",
              "      height: 32px;\n",
              "      padding: 0 0 0 0;\n",
              "      width: 32px;\n",
              "    }\n",
              "\n",
              "    .colab-df-convert:hover {\n",
              "      background-color: #E2EBFA;\n",
              "      box-shadow: 0px 1px 2px rgba(60, 64, 67, 0.3), 0px 1px 3px 1px rgba(60, 64, 67, 0.15);\n",
              "      fill: #174EA6;\n",
              "    }\n",
              "\n",
              "    [theme=dark] .colab-df-convert {\n",
              "      background-color: #3B4455;\n",
              "      fill: #D2E3FC;\n",
              "    }\n",
              "\n",
              "    [theme=dark] .colab-df-convert:hover {\n",
              "      background-color: #434B5C;\n",
              "      box-shadow: 0px 1px 3px 1px rgba(0, 0, 0, 0.15);\n",
              "      filter: drop-shadow(0px 1px 2px rgba(0, 0, 0, 0.3));\n",
              "      fill: #FFFFFF;\n",
              "    }\n",
              "  </style>\n",
              "\n",
              "      <script>\n",
              "        const buttonEl =\n",
              "          document.querySelector('#df-fab8c591-ce99-4444-b3e0-5b5928fb1bc8 button.colab-df-convert');\n",
              "        buttonEl.style.display =\n",
              "          google.colab.kernel.accessAllowed ? 'block' : 'none';\n",
              "\n",
              "        async function convertToInteractive(key) {\n",
              "          const element = document.querySelector('#df-fab8c591-ce99-4444-b3e0-5b5928fb1bc8');\n",
              "          const dataTable =\n",
              "            await google.colab.kernel.invokeFunction('convertToInteractive',\n",
              "                                                     [key], {});\n",
              "          if (!dataTable) return;\n",
              "\n",
              "          const docLinkHtml = 'Like what you see? Visit the ' +\n",
              "            '<a target=\"_blank\" href=https://colab.research.google.com/notebooks/data_table.ipynb>data table notebook</a>'\n",
              "            + ' to learn more about interactive tables.';\n",
              "          element.innerHTML = '';\n",
              "          dataTable['output_type'] = 'display_data';\n",
              "          await google.colab.output.renderOutput(dataTable, element);\n",
              "          const docLink = document.createElement('div');\n",
              "          docLink.innerHTML = docLinkHtml;\n",
              "          element.appendChild(docLink);\n",
              "        }\n",
              "      </script>\n",
              "    </div>\n",
              "  </div>\n",
              "  "
            ]
          },
          "metadata": {},
          "execution_count": 61
        }
      ]
    },
    {
      "cell_type": "code",
      "source": [
        "def order_time(x):\n",
        "    if x in [6,7,8,9,10,11,12]:\n",
        "        return 'The order was made in the morning'\n",
        "    if x in [13,14,15,16,17]:\n",
        "        return 'The order was made in the afternoon'\n",
        "    if x in [18,19,20,21,22]:\n",
        "        return 'The order was made in the evening'\n",
        "    if x in [23,24,0,1,2,3,4,5]:\n",
        "        return 'The order was made at night'\n",
        "    return x"
      ],
      "metadata": {
        "id": "kkQf9rCEGLI0"
      },
      "execution_count": null,
      "outputs": []
    },
    {
      "cell_type": "code",
      "source": [
        "df['order_time_list']=df['order_hour_of_day'].apply(order_time)"
      ],
      "metadata": {
        "id": "fDjPq2H0Gj1i"
      },
      "execution_count": null,
      "outputs": []
    },
    {
      "cell_type": "code",
      "source": [
        "df.groupby('order_time_list')['user_id'].agg(['count']).sort_values(by='count',ascending=False).plot(kind='bar',title='Time of day when, the order was made')"
      ],
      "metadata": {
        "colab": {
          "base_uri": "https://localhost:8080/",
          "height": 489
        },
        "id": "a4g-3RvGGwOA",
        "outputId": "ec8fb192-3069-4ba5-ed22-f24215e0a438"
      },
      "execution_count": null,
      "outputs": [
        {
          "output_type": "execute_result",
          "data": {
            "text/plain": [
              "<matplotlib.axes._subplots.AxesSubplot at 0x7efc23b41fa0>"
            ]
          },
          "metadata": {},
          "execution_count": 66
        },
        {
          "output_type": "display_data",
          "data": {
            "text/plain": [
              "<Figure size 432x288 with 1 Axes>"
            ],
            "image/png": "[encoded data removed]"
          },
          "metadata": {
            "needs_background": "light"
          }
        }
      ]
    },
    {
      "cell_type": "code",
      "source": [
        "df.pivot_table(index='order_dow',columns='order_time_list',values='user_id',aggfunc=['count']).plot(kind='bar',title='The time when the order was made by day and time of day',figsize=(9,9))"
      ],
      "metadata": {
        "colab": {
          "base_uri": "https://localhost:8080/",
          "height": 581
        },
        "id": "x4qr79iYGztF",
        "outputId": "4cc94abc-a3d7-4d8c-b94c-31c6a2c2618a"
      },
      "execution_count": null,
      "outputs": [
        {
          "output_type": "execute_result",
          "data": {
            "text/plain": [
              "<matplotlib.axes._subplots.AxesSubplot at 0x7efc1fa42b50>"
            ]
          },
          "metadata": {},
          "execution_count": 67
        },
        {
          "output_type": "display_data",
          "data": {
            "text/plain": [
              "<Figure size 648x648 with 1 Axes>"
            ],
            "image/png": "[encoded data removed]"
          },
          "metadata": {
            "needs_background": "light"
          }
        }
      ]
    },
    {
      "cell_type": "markdown",
      "source": [
        "**Hypothesis testing**\n",
        "\n",
        "H0: Purchase volume deliberation not due to familiarity with the store and to lack of time pressure μ0 = μ1\n",
        "\n",
        "H1: Purchase volume deliberation is due to to familiarity with the store and to lack of time pressure. μ0 <> μ1\n"
      ],
      "metadata": {
        "id": "Qn93cS8_3ItZ"
      }
    },
    {
      "cell_type": "code",
      "source": [
        "pd.set_option('display.max_columns', 50)\n",
        "pd.set_option('display.max_rows', 50)\n",
        "pd.set_option('display.width', 100)\n",
        "pd.set_option('display.float_format', '{:.5f}'.format)"
      ],
      "metadata": {
        "id": "5CvRZt6DMUE2"
      },
      "execution_count": null,
      "outputs": []
    },
    {
      "cell_type": "markdown",
      "source": [
        "## **Split up the dataset**"
      ],
      "metadata": {
        "id": "8_Es7ax2Qv87"
      }
    },
    {
      "cell_type": "code",
      "source": [
        "\n",
        "order_early = df[(df['order_hour_of_day'] == 7)]\n",
        "order_early.info()\n",
        "order_late = df[(df['order_hour_of_day'] == 16)]\n",
        "order_late.info()"
      ],
      "metadata": {
        "colab": {
          "base_uri": "https://localhost:8080/"
        },
        "id": "R3Cysb8E1szx",
        "outputId": "afd0973e-c863-4355-8163-9c103f53f3b5"
      },
      "execution_count": null,
      "outputs": [
        {
          "output_type": "stream",
          "name": "stdout",
          "text": [
            "<class 'pandas.core.frame.DataFrame'>\n",
            "Int64Index: 54143 entries, 524 to 2017846\n",
            "Data columns (total 12 columns):\n",
            " #   Column                  Non-Null Count  Dtype  \n",
            "---  ------                  --------------  -----  \n",
            " 0   order_id                54143 non-null  int64  \n",
            " 1   user_id                 54143 non-null  int64  \n",
            " 2   order_number            54143 non-null  int64  \n",
            " 3   order_dow               54143 non-null  int64  \n",
            " 4   order_hour_of_day       54143 non-null  int64  \n",
            " 5   days_since_prior_order  51391 non-null  float64\n",
            " 6   product_id              54143 non-null  int64  \n",
            " 7   add_to_cart_order       54143 non-null  int64  \n",
            " 8   reordered               54143 non-null  int64  \n",
            " 9   department_id           54143 non-null  int64  \n",
            " 10  department              54143 non-null  object \n",
            " 11  product_name            54143 non-null  object \n",
            "dtypes: float64(1), int64(9), object(2)\n",
            "memory usage: 5.4+ MB\n",
            "<class 'pandas.core.frame.DataFrame'>\n",
            "Int64Index: 158247 entries, 22 to 2019383\n",
            "Data columns (total 12 columns):\n",
            " #   Column                  Non-Null Count   Dtype  \n",
            "---  ------                  --------------   -----  \n",
            " 0   order_id                158247 non-null  int64  \n",
            " 1   user_id                 158247 non-null  int64  \n",
            " 2   order_number            158247 non-null  int64  \n",
            " 3   order_dow               158247 non-null  int64  \n",
            " 4   order_hour_of_day       158247 non-null  int64  \n",
            " 5   days_since_prior_order  147884 non-null  float64\n",
            " 6   product_id              158247 non-null  int64  \n",
            " 7   add_to_cart_order       158247 non-null  int64  \n",
            " 8   reordered               158247 non-null  int64  \n",
            " 9   department_id           158247 non-null  int64  \n",
            " 10  department              158247 non-null  object \n",
            " 11  product_name            158247 non-null  object \n",
            "dtypes: float64(1), int64(9), object(2)\n",
            "memory usage: 15.7+ MB\n"
          ]
        }
      ]
    },
    {
      "cell_type": "markdown",
      "source": [
        "## **Plot our variables**"
      ],
      "metadata": {
        "id": "gQCDjRR_RBLg"
      }
    },
    {
      "cell_type": "code",
      "source": [
        "\n",
        "plt.hist(order_early['add_to_cart_order'], alpha = .5) #highest\n",
        "plt.hist(order_late['add_to_cart_order'], alpha = .5)  #lowest\n",
        "plt.show()\n",
        "\n",
        "print(stats.describe(order_early['add_to_cart_order']))\n",
        "print(stats.describe(order_late['add_to_cart_order']))\n"
      ],
      "metadata": {
        "colab": {
          "base_uri": "https://localhost:8080/",
          "height": 300
        },
        "id": "DWtg8x9fOGsI",
        "outputId": "fb3c639c-2d71-4381-ab70-26d25cd90e87"
      },
      "execution_count": null,
      "outputs": [
        {
          "output_type": "display_data",
          "data": {
            "text/plain": [
              "<Figure size 432x288 with 1 Axes>"
            ],
            "image/png": "[encoded data removed]"
          },
          "metadata": {
            "needs_background": "light"
          }
        },
        {
          "output_type": "stream",
          "name": "stdout",
          "text": [
            "DescribeResult(nobs=54143, minmax=(1, 93), mean=8.514988087102672, variance=55.36200338309106, skewness=2.1120175437235846, kurtosis=8.696989759237587)\n",
            "DescribeResult(nobs=158247, minmax=(1, 68), mean=8.196553489165671, variance=48.59510129970419, skewness=1.730449629747011, kurtosis=4.375861585090108)\n"
          ]
        }
      ]
    },
    {
      "cell_type": "markdown",
      "source": [
        "## **Conduct the t-test**"
      ],
      "metadata": {
        "id": "4I5dpT1yRaVx"
      }
    },
    {
      "cell_type": "code",
      "source": [
        "\n",
        "stats.ttest_ind(order_early['add_to_cart_order'], order_late['add_to_cart_order'])"
      ],
      "metadata": {
        "colab": {
          "base_uri": "https://localhost:8080/"
        },
        "id": "WoTU3buTQBhD",
        "outputId": "f7276b49-92f3-46c3-cd92-e6a7640e5f45"
      },
      "execution_count": null,
      "outputs": [
        {
          "output_type": "execute_result",
          "data": {
            "text/plain": [
              "Ttest_indResult(statistic=9.016153044038488, pvalue=1.9636839355222203e-19)"
            ]
          },
          "metadata": {},
          "execution_count": 40
        }
      ]
    },
    {
      "cell_type": "markdown",
      "source": [
        "## **Confidence interval**"
      ],
      "metadata": {
        "id": "47ED_lCASyvp"
      }
    },
    {
      "cell_type": "code",
      "source": [
        "\n",
        "def get_95_ci(array_1, array_2):\n",
        "    sample_1_n = array_1.shape[0]\n",
        "    sample_2_n = array_2.shape[0]\n",
        "    sample_1_mean = array_1.mean()\n",
        "    sample_2_mean = array_2.mean()\n",
        "    sample_1_var = array_1.var()\n",
        "    sample_2_var = array_2.var()\n",
        "    mean_difference = sample_2_mean - sample_1_mean\n",
        "    std_err_difference = math.sqrt((sample_1_var/sample_1_n)+(sample_2_var/sample_2_n))\n",
        "    margin_of_error = 1.96 * std_err_difference\n",
        "    ci_lower = mean_difference - margin_of_error\n",
        "    ci_upper = mean_difference + margin_of_error\n",
        "    return(\"The difference in means at the 95% confidence interval (two-tail) is between \"+str(ci_lower)+\" and \"+str(ci_upper)+\".\")\n",
        "\n",
        "print(get_95_ci(order_early['add_to_cart_order'], order_late['add_to_cart_order']))\n",
        "\n",
        "# What is the current average sales in the evening?\n",
        "\n",
        "print(order_late[\"add_to_cart_order\"].mean())"
      ],
      "metadata": {
        "colab": {
          "base_uri": "https://localhost:8080/"
        },
        "id": "H2k4Adk5S92U",
        "outputId": "7b64f332-9b29-4852-cef4-0c1b612211f3"
      },
      "execution_count": null,
      "outputs": [
        {
          "output_type": "stream",
          "name": "stdout",
          "text": [
            "The difference in means at the 95% confidence interval (two-tail) is between -0.3899033684500056 and -0.24696582742399664.\n",
            "8.196553489165671\n"
          ]
        }
      ]
    },
    {
      "cell_type": "markdown",
      "source": [
        "## **Pointplot to compare the means**"
      ],
      "metadata": {
        "id": "QWklXXfRWODS"
      }
    },
    {
      "cell_type": "code",
      "source": [
        "g = sns.pointplot(data=[order_early['add_to_cart_order'], order_late['add_to_cart_order']], join=False)\n",
        "                        \n",
        "g.set(xticklabels = ['order_early', 'order_late'])"
      ],
      "metadata": {
        "colab": {
          "base_uri": "https://localhost:8080/",
          "height": 283
        },
        "id": "vz1JUpk6VSmH",
        "outputId": "2edaf3ac-06b6-4da5-ae7f-2e056500cc22"
      },
      "execution_count": null,
      "outputs": [
        {
          "output_type": "execute_result",
          "data": {
            "text/plain": [
              "[[Text(0, 0, 'order_early'), Text(0, 0, 'order_late')]]"
            ]
          },
          "metadata": {},
          "execution_count": 42
        },
        {
          "output_type": "display_data",
          "data": {
            "text/plain": [
              "<Figure size 432x288 with 1 Axes>"
            ],
            "image/png": "[encoded data removed]"
          },
          "metadata": {
            "needs_background": "light"
          }
        }
      ]
    },
    {
      "cell_type": "markdown",
      "source": [
        "## **Conclusion**\n",
        "\n",
        "This study demonstrates that consumer's time availibitty affect store shopping decisions.Time pressure primarily had an effect on frequency of failure to make intended purchases. The findings of this study shows that purchases arre higher early morning comparing to the evening. From the business's perspective the supermarket should invest more resources to morning staff to increase sales."
      ],
      "metadata": {
        "id": "OvsJKnyFXP6W"
      }
    }
  ]
}
