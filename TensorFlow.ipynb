{
  "nbformat": 4,
  "nbformat_minor": 0,
  "metadata": {
    "colab": {
      "provenance": []
    },
    "kernelspec": {
      "name": "python3",
      "display_name": "Python 3"
    },
    "language_info": {
      "name": "python"
    }
  },
  "cells": [
    {
      "cell_type": "code",
      "execution_count": 1,
      "metadata": {
        "id": "54lYHP7h9Zz-"
      },
      "outputs": [],
      "source": [
        "import warnings\n",
        "warnings.filterwarnings(\"ignore\")\n",
        "\n",
        "from tensorflow.keras.datasets import mnist\n",
        "from tensorflow.keras.utils import to_categorical\n",
        "from tensorflow.keras.models import Sequential \n",
        "from tensorflow.keras.layers import Dense"
      ]
    },
    {
      "cell_type": "code",
      "source": [
        "(X_train, y_train), (X_test, y_test) = mnist.load_data()\n",
        "\n",
        "input_dim = 784  # 28*28\n",
        "output_dim = nb_classes = 10\n",
        "batch_size = 128\n",
        "nb_epoch = 20\n",
        "\n",
        "X_train = X_train.reshape(60000, input_dim)\n",
        "X_test = X_test.reshape(10000, input_dim)\n",
        "X_train = X_train.astype('float32')\n",
        "X_test = X_test.astype('float32')\n",
        "X_train /= 255\n",
        "X_test /= 255"
      ],
      "metadata": {
        "colab": {
          "base_uri": "https://localhost:8080/"
        },
        "id": "Dx1MeRDf9ww3",
        "outputId": "2c68e740-2117-47ab-f67e-22d1e48a28be"
      },
      "execution_count": 2,
      "outputs": [
        {
          "output_type": "stream",
          "name": "stdout",
          "text": [
            "Downloading data from https://storage.googleapis.com/tensorflow/tf-keras-datasets/mnist.npz\n",
            "11490434/11490434 [==============================] - 0s 0us/step\n"
          ]
        }
      ]
    },
    {
      "cell_type": "code",
      "source": [
        "Y_train = to_categorical(y_train, nb_classes)\n",
        "Y_test = to_categorical(y_test, nb_classes)"
      ],
      "metadata": {
        "id": "6WetI7F993f2"
      },
      "execution_count": 3,
      "outputs": []
    },
    {
      "cell_type": "code",
      "source": [
        "model = Sequential()\n",
        "# our first dense layer\n",
        "model.add(Dense(32, input_shape=(784,), activation=\"relu\"))\n",
        "# our second dense layer\n",
        "model.add(Dense(16, activation=\"relu\"))\n",
        "# last layer is the output layer.\n",
        "model.add(Dense(10, activation=\"softmax\"))"
      ],
      "metadata": {
        "id": "YT2xwnX798Mp"
      },
      "execution_count": 4,
      "outputs": []
    },
    {
      "cell_type": "code",
      "source": [
        "model.compile(optimizer='sgd', loss='categorical_crossentropy',\n",
        "              metrics=['accuracy'])"
      ],
      "metadata": {
        "id": "TjWoxloL-AUL"
      },
      "execution_count": 5,
      "outputs": []
    },
    {
      "cell_type": "code",
      "source": [
        "# setting verbose=1 prints out some results after each epoch\n",
        "model.fit(X_train, Y_train, batch_size=batch_size, epochs=20, verbose=1)"
      ],
      "metadata": {
        "colab": {
          "base_uri": "https://localhost:8080/"
        },
        "id": "EHcQPDaF-GQU",
        "outputId": "48fec0f4-39c5-4575-a71e-14f0ff1d23a6"
      },
      "execution_count": 6,
      "outputs": [
        {
          "output_type": "stream",
          "name": "stdout",
          "text": [
            "Epoch 1/20\n",
            "469/469 [==============================] - 3s 4ms/step - loss: 1.7200 - accuracy: 0.4262\n",
            "Epoch 2/20\n",
            "469/469 [==============================] - 1s 3ms/step - loss: 0.8411 - accuracy: 0.7714\n",
            "Epoch 3/20\n",
            "469/469 [==============================] - 1s 2ms/step - loss: 0.5461 - accuracy: 0.8450\n",
            "Epoch 4/20\n",
            "469/469 [==============================] - 1s 2ms/step - loss: 0.4476 - accuracy: 0.8721\n",
            "Epoch 5/20\n",
            "469/469 [==============================] - 1s 3ms/step - loss: 0.3947 - accuracy: 0.8874\n",
            "Epoch 6/20\n",
            "469/469 [==============================] - 1s 2ms/step - loss: 0.3604 - accuracy: 0.8970\n",
            "Epoch 7/20\n",
            "469/469 [==============================] - 1s 2ms/step - loss: 0.3364 - accuracy: 0.9036\n",
            "Epoch 8/20\n",
            "469/469 [==============================] - 1s 3ms/step - loss: 0.3173 - accuracy: 0.9080\n",
            "Epoch 9/20\n",
            "469/469 [==============================] - 1s 3ms/step - loss: 0.3018 - accuracy: 0.9138\n",
            "Epoch 10/20\n",
            "469/469 [==============================] - 2s 4ms/step - loss: 0.2886 - accuracy: 0.9168\n",
            "Epoch 11/20\n",
            "469/469 [==============================] - 2s 3ms/step - loss: 0.2775 - accuracy: 0.9200\n",
            "Epoch 12/20\n",
            "469/469 [==============================] - 1s 2ms/step - loss: 0.2672 - accuracy: 0.9227\n",
            "Epoch 13/20\n",
            "469/469 [==============================] - 1s 3ms/step - loss: 0.2584 - accuracy: 0.9261\n",
            "Epoch 14/20\n",
            "469/469 [==============================] - 1s 3ms/step - loss: 0.2499 - accuracy: 0.9282\n",
            "Epoch 15/20\n",
            "469/469 [==============================] - 1s 3ms/step - loss: 0.2420 - accuracy: 0.9308\n",
            "Epoch 16/20\n",
            "469/469 [==============================] - 2s 3ms/step - loss: 0.2349 - accuracy: 0.9323\n",
            "Epoch 17/20\n",
            "469/469 [==============================] - 1s 3ms/step - loss: 0.2284 - accuracy: 0.9347\n",
            "Epoch 18/20\n",
            "469/469 [==============================] - 1s 2ms/step - loss: 0.2223 - accuracy: 0.9359\n",
            "Epoch 19/20\n",
            "469/469 [==============================] - 1s 3ms/step - loss: 0.2165 - accuracy: 0.9376\n",
            "Epoch 20/20\n",
            "469/469 [==============================] - 2s 4ms/step - loss: 0.2114 - accuracy: 0.9390\n"
          ]
        },
        {
          "output_type": "execute_result",
          "data": {
            "text/plain": [
              "<keras.callbacks.History at 0x7fdb05ad4340>"
            ]
          },
          "metadata": {},
          "execution_count": 6
        }
      ]
    },
    {
      "cell_type": "code",
      "source": [
        "score = model.evaluate(X_test, Y_test, verbose=0)\n",
        "print('Test score:', score[0])\n",
        "print('Test accuracy:', score[1])"
      ],
      "metadata": {
        "colab": {
          "base_uri": "https://localhost:8080/"
        },
        "id": "R4eT3dVH-Uqn",
        "outputId": "265e9996-e751-4af3-8ed8-5da89192fe05"
      },
      "execution_count": 7,
      "outputs": [
        {
          "output_type": "stream",
          "name": "stdout",
          "text": [
            "Test score: 0.2095852494239807\n",
            "Test accuracy: 0.9391999840736389\n"
          ]
        }
      ]
    },
    {
      "cell_type": "markdown",
      "source": [
        "The model achieved 94% accuracy in both the training and the test set. This level is lower than that of the example in the checkpoint. Since the layers include less number of neurons in this model, the model is simpler than the one of the example. This resulted in a lower performance. It seems, MNIST data requires a more complicated model than this one."
      ],
      "metadata": {
        "id": "ukcvAHRt-cg7"
      }
    },
    {
      "cell_type": "code",
      "source": [
        "model = Sequential()\n",
        "# our first dense layer\n",
        "model.add(Dense(1024, input_shape=(784,), activation=\"relu\"))\n",
        "# our second dense layer\n",
        "model.add(Dense(512, activation=\"relu\"))\n",
        "# our third dense layer\n",
        "model.add(Dense(256, activation=\"relu\"))\n",
        "# our fourth dense layer\n",
        "model.add(Dense(128, activation=\"relu\"))\n",
        "# our fifth dense layer\n",
        "model.add(Dense(64, activation=\"relu\"))\n",
        "# last layer is the output layer.\n",
        "model.add(Dense(10, activation=\"softmax\"))"
      ],
      "metadata": {
        "id": "wvdQZcUZ-ixI"
      },
      "execution_count": 8,
      "outputs": []
    },
    {
      "cell_type": "code",
      "source": [
        "model.compile(optimizer='sgd', loss='categorical_crossentropy',\n",
        "              metrics=['accuracy'])"
      ],
      "metadata": {
        "id": "em6UU5t7-mVW"
      },
      "execution_count": 9,
      "outputs": []
    },
    {
      "cell_type": "code",
      "source": [
        "# setting verbose=1 prints out some results after each epoch\n",
        "model.fit(X_train, Y_train, batch_size=batch_size, epochs=20, verbose=1)"
      ],
      "metadata": {
        "colab": {
          "base_uri": "https://localhost:8080/"
        },
        "id": "k-LqwsPF-qYR",
        "outputId": "bf495459-2167-463c-84d1-c4e3a3a67ff1"
      },
      "execution_count": 10,
      "outputs": [
        {
          "output_type": "stream",
          "name": "stdout",
          "text": [
            "Epoch 1/20\n",
            "469/469 [==============================] - 15s 30ms/step - loss: 1.1482 - accuracy: 0.7109\n",
            "Epoch 2/20\n",
            "469/469 [==============================] - 14s 31ms/step - loss: 0.3438 - accuracy: 0.9035\n",
            "Epoch 3/20\n",
            "469/469 [==============================] - 14s 30ms/step - loss: 0.2638 - accuracy: 0.9237\n",
            "Epoch 4/20\n",
            "469/469 [==============================] - 14s 29ms/step - loss: 0.2225 - accuracy: 0.9362\n",
            "Epoch 5/20\n",
            "469/469 [==============================] - 15s 31ms/step - loss: 0.1937 - accuracy: 0.9446\n",
            "Epoch 6/20\n",
            "469/469 [==============================] - 14s 30ms/step - loss: 0.1715 - accuracy: 0.9508\n",
            "Epoch 7/20\n",
            "469/469 [==============================] - 15s 32ms/step - loss: 0.1534 - accuracy: 0.9555\n",
            "Epoch 8/20\n",
            "469/469 [==============================] - 14s 31ms/step - loss: 0.1372 - accuracy: 0.9607\n",
            "Epoch 9/20\n",
            "469/469 [==============================] - 14s 31ms/step - loss: 0.1258 - accuracy: 0.9639\n",
            "Epoch 10/20\n",
            "469/469 [==============================] - 15s 31ms/step - loss: 0.1158 - accuracy: 0.9668\n",
            "Epoch 11/20\n",
            "469/469 [==============================] - 15s 32ms/step - loss: 0.1051 - accuracy: 0.9697\n",
            "Epoch 12/20\n",
            "469/469 [==============================] - 15s 32ms/step - loss: 0.0958 - accuracy: 0.9730\n",
            "Epoch 13/20\n",
            "469/469 [==============================] - 14s 31ms/step - loss: 0.0894 - accuracy: 0.9745\n",
            "Epoch 14/20\n",
            "469/469 [==============================] - 15s 31ms/step - loss: 0.0817 - accuracy: 0.9764\n",
            "Epoch 15/20\n",
            "469/469 [==============================] - 15s 33ms/step - loss: 0.0760 - accuracy: 0.9784\n",
            "Epoch 16/20\n",
            "469/469 [==============================] - 15s 32ms/step - loss: 0.0705 - accuracy: 0.9803\n",
            "Epoch 17/20\n",
            "469/469 [==============================] - 14s 31ms/step - loss: 0.0649 - accuracy: 0.9820\n",
            "Epoch 18/20\n",
            "469/469 [==============================] - 15s 31ms/step - loss: 0.0605 - accuracy: 0.9835\n",
            "Epoch 19/20\n",
            "469/469 [==============================] - 15s 32ms/step - loss: 0.0559 - accuracy: 0.9847\n",
            "Epoch 20/20\n",
            "469/469 [==============================] - 14s 31ms/step - loss: 0.0518 - accuracy: 0.9861\n"
          ]
        },
        {
          "output_type": "execute_result",
          "data": {
            "text/plain": [
              "<keras.callbacks.History at 0x7fdb023ece50>"
            ]
          },
          "metadata": {},
          "execution_count": 10
        }
      ]
    }
  ]
}