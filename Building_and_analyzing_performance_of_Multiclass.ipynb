{
  "nbformat": 4,
  "nbformat_minor": 0,
  "metadata": {
    "colab": {
      "provenance": []
    },
    "kernelspec": {
      "name": "python3",
      "display_name": "Python 3"
    },
    "language_info": {
      "name": "python"
    }
  },
  "cells": [
    {
      "cell_type": "code",
      "source": [
        "from sklearn.linear_model import LogisticRegression\n",
        "from sklearn.ensemble import RandomForestClassifier\n",
        "from sklearn.datasets import load_digits\n",
        "from sklearn.metrics import  classification_report, confusion_matrix\n",
        "\n",
        "import matplotlib.pyplot as plt\n",
        "import pandas as pd\n",
        "import numpy as np\n",
        "import seaborn as sns\n",
        "import random as rnd"
      ],
      "metadata": {
        "id": "W-NhbDCCnBvG"
      },
      "execution_count": null,
      "outputs": []
    },
    {
      "cell_type": "markdown",
      "source": [
        "**Load the data**"
      ],
      "metadata": {
        "id": "wtWgAFjJov3M"
      }
    },
    {
      "cell_type": "code",
      "source": [
        "from sklearn.datasets import load_digits\n",
        "X, y = load_digits(return_X_y=True)"
      ],
      "metadata": {
        "id": "RsZQoMdjo7qt"
      },
      "execution_count": null,
      "outputs": []
    },
    {
      "cell_type": "markdown",
      "source": [
        "**Exploratory data analysis**"
      ],
      "metadata": {
        "id": "jWtpR4dXAByX"
      }
    },
    {
      "cell_type": "code",
      "source": [
        "import numpy as np\n",
        "\n",
        "print('The number of rows in the dataset is {:d}'.format(X.shape[0]))\n",
        "print('The number of features in the dataset is {:d}'.format(X.shape[1]))\n",
        "np.bincount(y)"
      ],
      "metadata": {
        "colab": {
          "base_uri": "https://localhost:8080/"
        },
        "id": "zLxkyi1YAF5m",
        "outputId": "73517632-98c4-4831-ed39-260a3866a6d1"
      },
      "execution_count": null,
      "outputs": [
        {
          "output_type": "stream",
          "name": "stdout",
          "text": [
            "The number of rows in the dataset is 1797\n",
            "The number of features in the dataset is 64\n"
          ]
        },
        {
          "output_type": "execute_result",
          "data": {
            "text/plain": [
              "array([178, 182, 177, 183, 181, 182, 181, 179, 174, 180])"
            ]
          },
          "metadata": {},
          "execution_count": 7
        }
      ]
    },
    {
      "cell_type": "markdown",
      "source": [
        "**Prepare training and testing data**"
      ],
      "metadata": {
        "id": "hwjEqE0CBX35"
      }
    },
    {
      "cell_type": "code",
      "source": [
        "from sklearn.model_selection import train_test_split\n",
        "\n",
        "X_train, X_test, y_train, y_test = train_test_split(X, y, test_size=0.2, random_state=40)"
      ],
      "metadata": {
        "id": "1jKKIogyBsZi"
      },
      "execution_count": null,
      "outputs": []
    },
    {
      "cell_type": "markdown",
      "source": [
        "**Cross-validation with logistic regression**"
      ],
      "metadata": {
        "id": "-H_yJxlFCxil"
      }
    },
    {
      "cell_type": "code",
      "source": [
        "from sklearn.linear_model import LogisticRegression\n",
        "from sklearn.model_selection import cross_val_score\n",
        "\n",
        "lr_clf = LogisticRegression(solver='lbfgs', multi_class='ovr', max_iter=1000)\n",
        "lr_cv_scores = cross_val_score(lr_clf, X_train, y_train, cv = 5)\n",
        "\n",
        "print('Accuracy scores for the 5 folds: ', lr_cv_scores)\n",
        "print('Mean cross validation score: {:.3f}'.format(np.mean(lr_cv_scores)))"
      ],
      "metadata": {
        "colab": {
          "base_uri": "https://localhost:8080/"
        },
        "id": "0QH-v3m2C1z-",
        "outputId": "f118e4df-8fee-4453-ae0a-f5f971e7c763"
      },
      "execution_count": null,
      "outputs": [
        {
          "output_type": "stream",
          "name": "stdout",
          "text": [
            "Accuracy scores for the 5 folds:  [0.94791667 0.94791667 0.95470383 0.94425087 0.95470383]\n",
            "Mean cross validation score: 0.950\n"
          ]
        }
      ]
    },
    {
      "cell_type": "markdown",
      "source": [
        "**Cross-validation with random forest**"
      ],
      "metadata": {
        "id": "OoRD0bbMEKJi"
      }
    },
    {
      "cell_type": "code",
      "source": [
        "from sklearn.ensemble import RandomForestClassifier\n",
        "rf_clf = RandomForestClassifier(n_estimators=24)\n",
        "rf_cv_scores = cross_val_score(rf_clf, X_train, y_train, cv = 5)\n",
        "print('Accuracy scores for the 5 folds: ', rf_cv_scores)\n",
        "print('Mean cross validation score: {:.3f}'.format(np.mean(rf_cv_scores)))"
      ],
      "metadata": {
        "colab": {
          "base_uri": "https://localhost:8080/"
        },
        "id": "yGx7YDcIENBu",
        "outputId": "1b88acd4-553b-475f-c0d6-4677c2a120ea"
      },
      "execution_count": null,
      "outputs": [
        {
          "output_type": "stream",
          "name": "stdout",
          "text": [
            "Accuracy scores for the 5 folds:  [0.95486111 0.97222222 0.97212544 0.95818815 0.95470383]\n",
            "Mean cross validation score: 0.962\n"
          ]
        }
      ]
    }
  ]
}